{
 "cells": [
  {
   "cell_type": "code",
   "execution_count": 2,
   "metadata": {},
   "outputs": [],
   "source": [
    "import json\n",
    "import os"
   ]
  },
  {
   "cell_type": "code",
   "execution_count": 16,
   "metadata": {},
   "outputs": [],
   "source": [
    "ped = {\n",
    "  \"source\" : None,\n",
    "  \"targetIds\" : [ 1 ],\n",
    "  \"position\" : {\n",
    "    \"x\" : 24.0,\n",
    "    \"y\" : 2.5\n",
    "  },\n",
    "  \"velocity\" : {\n",
    "    \"x\" : 0.0,\n",
    "    \"y\" : 0.0\n",
    "  },\n",
    "  \"nextTargetListIndex\" : 0,\n",
    "  \"freeFlowSpeed\" : 0.8125422260781998,\n",
    "  \"attributes\" : {\n",
    "    \"id\" : -1,\n",
    "    \"radius\" : 0.2,\n",
    "    \"densityDependentSpeed\" : False,\n",
    "    \"speedDistributionMean\" : 1.34,\n",
    "    \"speedDistributionStandardDeviation\" : 0.26,\n",
    "    \"minimumSpeed\" : 0.5,\n",
    "    \"maximumSpeed\" : 2.2,\n",
    "    \"acceleration\" : 2.0,\n",
    "    \"footStepsToStore\" : 4,\n",
    "    \"searchRadius\" : 1.0,\n",
    "    \"angleCalculationType\" : \"USE_CENTER\",\n",
    "    \"targetOrientationAngleThreshold\" : 45.0\n",
    "  },\n",
    "  \"idAsTarget\" : -1,\n",
    "  \"isChild\" : False,\n",
    "  \"isLikelyInjured\" : False,\n",
    "  \"mostImportantEvent\" : None,\n",
    "  \"salientBehavior\" : \"TARGET_ORIENTED\",\n",
    "  \"groupIds\" : [ ],\n",
    "  \"trajectory\" : {\n",
    "    \"footSteps\" : [ ]\n",
    "  },\n",
    "  \"groupSizes\" : [ ],\n",
    "  \"modelPedestrianMap\" : { },\n",
    "  \"type\" : \"PEDESTRIAN\"\n",
    "}"
   ]
  },
  {
   "cell_type": "code",
   "execution_count": 22,
   "metadata": {},
   "outputs": [
    {
     "name": "stdout",
     "output_type": "stream",
     "text": [
      "[{'source': None, 'targetIds': [1], 'position': {'x': 24.0, 'y': 2.5}, 'velocity': {'x': 0.0, 'y': 0.0}, 'nextTargetListIndex': 0, 'freeFlowSpeed': 0.8125422260781998, 'attributes': {'id': -1, 'radius': 0.2, 'densityDependentSpeed': False, 'speedDistributionMean': 1.34, 'speedDistributionStandardDeviation': 0.26, 'minimumSpeed': 0.5, 'maximumSpeed': 2.2, 'acceleration': 2.0, 'footStepsToStore': 4, 'searchRadius': 1.0, 'angleCalculationType': 'USE_CENTER', 'targetOrientationAngleThreshold': 45.0}, 'idAsTarget': -1, 'isChild': False, 'isLikelyInjured': False, 'mostImportantEvent': None, 'salientBehavior': 'TARGET_ORIENTED', 'groupIds': [], 'trajectory': {'footSteps': []}, 'groupSizes': [], 'modelPedestrianMap': {}, 'type': 'PEDESTRIAN'}]\n"
     ]
    }
   ],
   "source": [
    "read_filename = './scenarios/corner.scenario'\n",
    "with open(read_filename, 'r') as infile:\n",
    "    data = json.load(infile)\n",
    "    data['name'] = 'corner_modified'\n",
    "    data['scenario']['topography']['dynamicElements'].append(ped)\n",
    "    print(data['scenario']['topography']['dynamicElements'])\n",
    "write_filename = './scenarios/corner_modified.scenario'\n",
    "with open(write_filename, 'w') as outfile:\n",
    "    json.dump(data, outfile)"
   ]
  },
  {
   "cell_type": "code",
   "execution_count": null,
   "metadata": {},
   "outputs": [],
   "source": []
  }
 ],
 "metadata": {
  "kernelspec": {
   "display_name": "Python 2",
   "language": "python",
   "name": "python2"
  },
  "language_info": {
   "codemirror_mode": {
    "name": "ipython",
    "version": 3
   },
   "file_extension": ".py",
   "mimetype": "text/x-python",
   "name": "python",
   "nbconvert_exporter": "python",
   "pygments_lexer": "ipython3",
   "version": "3.7.1"
  }
 },
 "nbformat": 4,
 "nbformat_minor": 2
}
