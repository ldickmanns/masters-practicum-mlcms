{
 "cells": [
  {
   "cell_type": "code",
   "execution_count": 17,
   "metadata": {},
   "outputs": [],
   "source": [
    "import json"
   ]
  },
  {
   "cell_type": "code",
   "execution_count": 18,
   "metadata": {},
   "outputs": [],
   "source": [
    "def addPedestrian(in_file, out_file, ped_id, x, y):\n",
    "    ped = {\n",
    "      \"source\" : None,\n",
    "      \"targetIds\" : [ 1 ],\n",
    "      \"position\" : {\n",
    "        \"x\" : x,\n",
    "        \"y\" : y\n",
    "      },\n",
    "      \"velocity\" : {\n",
    "        \"x\" : 0.0,\n",
    "        \"y\" : 0.0\n",
    "      },\n",
    "      \"nextTargetListIndex\" : 0,\n",
    "      \"freeFlowSpeed\" : 0.8125422260781998,\n",
    "      \"attributes\" : {\n",
    "        \"id\" : ped_id,\n",
    "        \"radius\" : 0.2,\n",
    "        \"densityDependentSpeed\" : False,\n",
    "        \"speedDistributionMean\" : 1.34,\n",
    "        \"speedDistributionStandardDeviation\" : 0.26,\n",
    "        \"minimumSpeed\" : 0.5,\n",
    "        \"maximumSpeed\" : 2.2,\n",
    "        \"acceleration\" : 2.0,\n",
    "        \"footStepsToStore\" : 4,\n",
    "        \"searchRadius\" : 1.0,\n",
    "        \"angleCalculationType\" : \"USE_CENTER\",\n",
    "        \"targetOrientationAngleThreshold\" : 45.0\n",
    "      },\n",
    "      \"idAsTarget\" : -1,\n",
    "      \"isChild\" : False,\n",
    "      \"isLikelyInjured\" : False,\n",
    "      \"mostImportantEvent\" : None,\n",
    "      \"salientBehavior\" : \"TARGET_ORIENTED\",\n",
    "      \"groupIds\" : [ ],\n",
    "      \"trajectory\" : {\n",
    "        \"footSteps\" : [ ]\n",
    "      },\n",
    "      \"groupSizes\" : [ ],\n",
    "      \"modelPedestrianMap\" : { },\n",
    "      \"type\" : \"PEDESTRIAN\"\n",
    "    }\n",
    "    with open('./scenarios/' + in_file + '.scenario', 'r') as infile:\n",
    "        data = json.load(infile)\n",
    "        data['name'] = out_file\n",
    "        data['scenario']['topography']['dynamicElements'].append(ped)\n",
    "    with open('./scenarios/' + out_file + '.scenario', 'w') as outfile:\n",
    "        json.dump(data, outfile)"
   ]
  },
  {
   "cell_type": "code",
   "execution_count": 19,
   "metadata": {},
   "outputs": [],
   "source": [
    "addPedestrian('corner', 'corner_modified', 1, 24.0, 2.5)"
   ]
  },
  {
   "cell_type": "code",
   "execution_count": null,
   "metadata": {},
   "outputs": [],
   "source": []
  }
 ],
 "metadata": {
  "kernelspec": {
   "display_name": "Python 3",
   "language": "python",
   "name": "python3"
  },
  "language_info": {
   "codemirror_mode": {
    "name": "ipython",
    "version": 3
   },
   "file_extension": ".py",
   "mimetype": "text/x-python",
   "name": "python",
   "nbconvert_exporter": "python",
   "pygments_lexer": "ipython3",
   "version": "3.7.1"
  }
 },
 "nbformat": 4,
 "nbformat_minor": 2
}
