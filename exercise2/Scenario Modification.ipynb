{
 "cells": [
  {
   "cell_type": "code",
   "execution_count": null,
   "metadata": {},
   "outputs": [],
   "source": [
    "# Imports\n",
    "import csv\n",
    "import json\n",
    "import numpy as np\n",
    "import os"
   ]
  },
  {
   "cell_type": "code",
   "execution_count": null,
   "metadata": {},
   "outputs": [],
   "source": [
    "# String constants\n",
    "SCENARIO_ROOT = './scenarios/'\n",
    "BOTTLENECK_OSM = SCENARIO_ROOT + 'bottleneck_osm.scenario'\n",
    "BOTTLENECK_GNM = SCENARIO_ROOT + 'bottleneck_gnm.scenario'"
   ]
  },
  {
   "cell_type": "code",
   "execution_count": null,
   "metadata": {},
   "outputs": [],
   "source": [
    "# Running scenarios\n",
    "# !!! vadere-console.jar must be placed in the same folder as this notebook!!!\n",
    "def run_scenario(scenario_name):\n",
    "    java_command = 'java -jar vadere-console.jar scenario-run'\n",
    "    command = java_command + ' --scenario-file \"scenarios/' + scenario_name + '.scenario\" --output-dir=\"output\"'\n",
    "    os.system(command)"
   ]
  },
  {
   "cell_type": "code",
   "execution_count": null,
   "metadata": {},
   "outputs": [],
   "source": [
    "def addPedestrian(in_file, out_file, ped_id, x, y, target_ids, speed):\n",
    "    ped = {\n",
    "      \"source\" : None,\n",
    "      \"targetIds\" : target_ids,\n",
    "      \"position\" : {\n",
    "        \"x\" : x,\n",
    "        \"y\" : y\n",
    "      },\n",
    "      \"velocity\" : {\n",
    "        \"x\" : 0.0,\n",
    "        \"y\" : 0.0\n",
    "      },\n",
    "      \"nextTargetListIndex\" : 0,\n",
    "      \"freeFlowSpeed\" : speed,\n",
    "      \"attributes\" : {\n",
    "        \"id\" : ped_id,\n",
    "        \"radius\" : 0.2,\n",
    "        \"densityDependentSpeed\" : False,\n",
    "        \"speedDistributionMean\" : 1.34,\n",
    "        \"speedDistributionStandardDeviation\" : 0.26,\n",
    "        \"minimumSpeed\" : 0.5,\n",
    "        \"maximumSpeed\" : 2.2,\n",
    "        \"acceleration\" : 2.0,\n",
    "        \"footStepsToStore\" : 4,\n",
    "        \"searchRadius\" : 1.0,\n",
    "        \"angleCalculationType\" : \"USE_CENTER\",\n",
    "        \"targetOrientationAngleThreshold\" : 45.0\n",
    "      },\n",
    "      \"idAsTarget\" : -1,\n",
    "      \"isChild\" : False,\n",
    "      \"isLikelyInjured\" : False,\n",
    "      \"mostImportantEvent\" : None,\n",
    "      \"salientBehavior\" : \"TARGET_ORIENTED\",\n",
    "      \"groupIds\" : [ ],\n",
    "      \"trajectory\" : {\n",
    "        \"footSteps\" : [ ]\n",
    "      },\n",
    "      \"groupSizes\" : [ ],\n",
    "      \"modelPedestrianMap\" : { },\n",
    "      \"type\" : \"PEDESTRIAN\"\n",
    "    }\n",
    "    with open(SCENARIO_ROOT + in_file + '.scenario', 'r') as infile:\n",
    "        data = json.load(infile)\n",
    "        data['name'] = out_file\n",
    "        data['scenario']['topography']['dynamicElements'].append(ped)\n",
    "    with open(SCENARIO_ROOT + out_file + '.scenario', 'w') as outfile:\n",
    "        json.dump(data, outfile, indent=2)"
   ]
  },
  {
   "cell_type": "code",
   "execution_count": null,
   "metadata": {},
   "outputs": [],
   "source": [
    "addPedestrian('corner', 'corner_modified', 1, 24.0, 2.5, [1], 0.8125422260781998)"
   ]
  },
  {
   "cell_type": "code",
   "execution_count": null,
   "metadata": {},
   "outputs": [],
   "source": [
    "# Matrix with the output of the \"real\" scenario\n",
    "def output_matrix():\n",
    "    output_filename = './output/bottleneck_osm/postvis.trajectories'\n",
    "    with open(output_filename, newline='') as csvfile:\n",
    "        reader = csv.reader(csvfile, delimiter=' ')\n",
    "        next(reader)\n",
    "        matrix = []\n",
    "        for row in reader:\n",
    "            a = [int(row[0]), int(row[1]), float(row[2]), float(row[3]), int(row[4]), float(row[5])]\n",
    "            matrix.append(a)\n",
    "        return matrix"
   ]
  },
  {
   "cell_type": "code",
   "execution_count": null,
   "metadata": {},
   "outputs": [],
   "source": [
    "# Creating timestamp files from a template\n",
    "matrix = output_matrix()\n",
    "step_max = max([list(i) for i in zip(*matrix)][0])\n",
    "for i in range(1, step_max + 1):\n",
    "    with open(BOTTLENECK_GNM, 'r') as infile:\n",
    "        data = json.load(infile)\n",
    "    timestamp = 'timestamp_' + str(i)\n",
    "    new_sec_file = SCENARIO_ROOT + timestamp + '.scenario'\n",
    "    with open(new_sec_file, 'w') as new_sec:\n",
    "        json.dump(data, new_sec, indent=2)\n",
    "    pedestrians = list(filter(lambda x: x[0] == i, matrix))\n",
    "    for p in pedestrians:\n",
    "        p_id = p[1]\n",
    "        p_x = p[2]\n",
    "        p_y = p[3]\n",
    "        # TODO What happens with multiple targets?\n",
    "        p_target = p[4]\n",
    "        p_speed = p[5]\n",
    "        addPedestrian(timestamp, timestamp, p_id, p_x, p_y, [p_target], p_speed)"
   ]
  },
  {
   "cell_type": "code",
   "execution_count": null,
   "metadata": {},
   "outputs": [],
   "source": []
  }
 ],
 "metadata": {
  "kernelspec": {
   "display_name": "Python 3",
   "language": "python",
   "name": "python3"
  },
  "language_info": {
   "codemirror_mode": {
    "name": "ipython",
    "version": 3
   },
   "file_extension": ".py",
   "mimetype": "text/x-python",
   "name": "python",
   "nbconvert_exporter": "python",
   "pygments_lexer": "ipython3",
   "version": "3.6.8"
  }
 },
 "nbformat": 4,
 "nbformat_minor": 2
}
