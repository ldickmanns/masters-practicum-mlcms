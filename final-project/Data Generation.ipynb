{
 "cells": [
  {
   "cell_type": "code",
   "execution_count": 1,
   "metadata": {},
   "outputs": [],
   "source": [
    "import numpy as np\n",
    "import matplotlib.pyplot as plt\n",
    "import matplotlib.gridspec as gridspec\n",
    "import csv\n",
    "from scipy.integrate import solve_ivp"
   ]
  },
  {
   "cell_type": "code",
   "execution_count": 2,
   "metadata": {},
   "outputs": [],
   "source": [
    "def first_system(x1, x2, a):\n",
    "    dx1 = -a * (x1 + x2)\n",
    "    dx2 = 0.25 * x1\n",
    "    return dx1, dx2"
   ]
  },
  {
   "cell_type": "code",
   "execution_count": 3,
   "metadata": {},
   "outputs": [],
   "source": [
    "# Vectorized andronov hopf\n",
    "def vec_first_system(t, x, a):\n",
    "    x1 = x[0]\n",
    "    x2 = x[1]\n",
    "    return np.array(first_system(x1, x2, a))"
   ]
  },
  {
   "cell_type": "code",
   "execution_count": 4,
   "metadata": {},
   "outputs": [],
   "source": [
    "def andronov_hopf(x1, x2, a):\n",
    "    dx1 = a*x1 - x2 - x1*(x1**2 + x2**2)\n",
    "    dx2 = x1 + a*x2 - x2*(x1**2 + x2**2)\n",
    "    return dx1, dx2"
   ]
  },
  {
   "cell_type": "code",
   "execution_count": 5,
   "metadata": {},
   "outputs": [],
   "source": [
    "# Vectorized andronov hopf\n",
    "def vec_andronov_hopf(t, x, a):\n",
    "    x1 = x[0]\n",
    "    x2 = x[1]\n",
    "    return np.array(andronov_hopf(x1, x2, a))"
   ]
  },
  {
   "cell_type": "code",
   "execution_count": 6,
   "metadata": {},
   "outputs": [],
   "source": [
    "alpha = 0.1\n",
    "tspan = (0., 0.01)\n",
    "teval = [0.01]\n",
    "\n",
    "with open('first_model.csv', mode='w') as f:\n",
    "    writer = csv.writer(f, delimiter=',', quotechar='\"', quoting=csv.QUOTE_MINIMAL)\n",
    "    for i in range(1000000):\n",
    "        x0 = np.random.uniform(-100,100,2)\n",
    "        sol = solve_ivp(lambda t, x: vec_first_system(t, x, alpha), tspan, x0, t_eval=teval)\n",
    "        new_data_point = np.asarray([x0[0], x0[1], alpha, sol.y[0][0], sol.y[1][0]])\n",
    "        writer.writerow(new_data_point)"
   ]
  },
  {
   "cell_type": "code",
   "execution_count": 44,
   "metadata": {},
   "outputs": [],
   "source": [
    "# Andronov-Hopf bifurcation\n",
    "def andronov_hopf(x1, x2, a):\n",
    "    dx1 = a*x1 - x2 - x1*(x1**2 + x2**2)\n",
    "    dx2 = x1 + a*x2 - x2*(x1**2 + x2**2)\n",
    "    return dx1, dx2"
   ]
  },
  {
   "cell_type": "code",
   "execution_count": 45,
   "metadata": {},
   "outputs": [],
   "source": [
    "def euler(alpha, delta, y):\n",
    "    u,v= andronov_hopf(y[0], y[1], alpha)\n",
    "    return y + delta * np.asarray([u, v])"
   ]
  },
  {
   "cell_type": "code",
   "execution_count": 49,
   "metadata": {},
   "outputs": [],
   "source": [
    "params = [1.5]\n",
    "\n",
    "with open('second_model_2.csv', mode='w') as employee_file:\n",
    "    writer = csv.writer(employee_file, delimiter=',', quotechar='\"', quoting=csv.QUOTE_MINIMAL)\n",
    "    for param in params:\n",
    "        for i in range(1000):\n",
    "            point = np.random.uniform(-2,2,2)\n",
    "            point_new = euler(param, 0.03, point)\n",
    "            result = np.append(np.append(point,param), point_new)\n",
    "            writer.writerow(result)"
   ]
  },
  {
   "cell_type": "code",
   "execution_count": null,
   "metadata": {},
   "outputs": [],
   "source": []
  }
 ],
 "metadata": {
  "kernelspec": {
   "display_name": "Python 3",
   "language": "python",
   "name": "python3"
  },
  "language_info": {
   "codemirror_mode": {
    "name": "ipython",
    "version": 3
   },
   "file_extension": ".py",
   "mimetype": "text/x-python",
   "name": "python",
   "nbconvert_exporter": "python",
   "pygments_lexer": "ipython3",
   "version": "3.7.1"
  }
 },
 "nbformat": 4,
 "nbformat_minor": 2
}
