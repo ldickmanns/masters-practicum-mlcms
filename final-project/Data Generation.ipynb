{
 "cells": [
  {
   "cell_type": "code",
   "execution_count": 1,
   "metadata": {},
   "outputs": [],
   "source": [
    "import csv\n",
    "import matplotlib.pyplot as plt\n",
    "import matplotlib.gridspec as gridspec\n",
    "import numpy as np\n",
    "\n",
    "from scipy.integrate import solve_ivp\n",
    "from dynamical_systems import vec_linear_system, vec_andronov_hopf, vec_roessler_attractor"
   ]
  },
  {
   "cell_type": "code",
   "execution_count": null,
   "metadata": {},
   "outputs": [],
   "source": [
    "# Linear system.\n",
    "alpha = 0.1\n",
    "tspan = (0., 0.01)\n",
    "teval = [0.01]\n",
    "\n",
    "with open('first_model.csv', mode='w') as f:\n",
    "    writer = csv.writer(f, delimiter=',', quotechar='\"', quoting=csv.QUOTE_MINIMAL)\n",
    "    for i in range(1000000):\n",
    "        x0 = np.random.uniform(-100,100,2)\n",
    "        sol = solve_ivp(lambda t, x: vec_linear_system(x, alpha), tspan, x0, t_eval=teval)\n",
    "        new_data_point = np.asarray([x0[0], x0[1], alpha, sol.y[0][0], sol.y[1][0]])\n",
    "        writer.writerow(new_data_point)"
   ]
  },
  {
   "cell_type": "code",
   "execution_count": null,
   "metadata": {},
   "outputs": [],
   "source": [
    "# Andronov-Hopf.\n",
    "with open('second_model.csv', mode='w') as employee_file:\n",
    "    writer = csv.writer(employee_file, delimiter=',', quotechar='\"', quoting=csv.QUOTE_MINIMAL)\n",
    "    tspan = (0., 10.)\n",
    "    teval = np.arange(tspan[0], tspan[1], 0.01)\n",
    "    for i in range(1000):\n",
    "        x0 = np.random.uniform(-5, 5, 2)\n",
    "        alpha = np.random.uniform(-3, 3)\n",
    "        sol = solve_ivp(lambda t, x: vec_andronov_hopf(x, alpha), tspan, x0, t_eval=teval)\n",
    "        \n",
    "        x1_1 = sol.y[0]\n",
    "        x2_1 = sol.y[1]\n",
    "        \n",
    "        for j in range(sol.y.shape[1]-1):\n",
    "            new_data_point = np.asarray([sol.y[0][j], sol.y[1][j], alpha, sol.y[0][j+1], sol.y[1][j+1]])\n",
    "            writer.writerow(new_data_point)"
   ]
  },
  {
   "cell_type": "code",
   "execution_count": 5,
   "metadata": {},
   "outputs": [
    {
     "name": "stdout",
     "output_type": "stream",
     "text": [
      "a = 0.0\n",
      "10\n",
      "20\n",
      "30\n",
      "a = 0.1\n",
      "10\n",
      "20\n",
      "30\n",
      "a = 0.2\n",
      "10\n",
      "20\n",
      "30\n",
      "a = 0.3\n",
      "10\n",
      "20\n",
      "30\n"
     ]
    }
   ],
   "source": [
    "# Roessler attractor.\n",
    "\n",
    "a_s = np.linspace(-1, 1, 21)\n",
    "a_s = np.array([0.0, 0.1, 0.2, 0.3])\n",
    "\n",
    "with open('third_model.csv', mode='w') as employee_file:\n",
    "    writer = csv.writer(employee_file, delimiter=',', quotechar='\"', quoting=csv.QUOTE_MINIMAL)\n",
    "    tspan = (0., 1000.)\n",
    "    teval = np.arange(tspan[0], tspan[1], 0.02)\n",
    "    for a in a_s:\n",
    "        print('a =', a)\n",
    "        for i in range(30):\n",
    "            if i % 10 == 9: print(i+1)\n",
    "            \n",
    "            x0 = np.random.uniform(0., 10., 3)\n",
    "            #a = np.random.uniform(-3., 3.)\n",
    "            sol = solve_ivp(lambda t, x: vec_roessler_attractor(x, a), tspan, x0, t_eval=teval)\n",
    "            \n",
    "            for j in range(sol.y.shape[1]-1):\n",
    "                new_data_point = np.asarray([sol.y[0][j], sol.y[1][j], sol.y[2][j], a, \n",
    "                                             sol.y[0][j+1], sol.y[1][j+1], sol.y[2][j+1]])\n",
    "                writer.writerow(new_data_point)"
   ]
  },
  {
   "cell_type": "code",
   "execution_count": null,
   "metadata": {},
   "outputs": [],
   "source": []
  }
 ],
 "metadata": {
  "kernelspec": {
   "display_name": "Python 3",
   "language": "python",
   "name": "python3"
  },
  "language_info": {
   "codemirror_mode": {
    "name": "ipython",
    "version": 3
   },
   "file_extension": ".py",
   "mimetype": "text/x-python",
   "name": "python",
   "nbconvert_exporter": "python",
   "pygments_lexer": "ipython3",
   "version": "3.6.9"
  }
 },
 "nbformat": 4,
 "nbformat_minor": 2
}
